{
 "cells": [
  {
   "cell_type": "code",
   "execution_count": null,
   "metadata": {},
   "outputs": [],
   "source": [
    "a = 'abc'\n",
    "b = 'def'\n",
    "c = 23\n",
    "d = 40\n",
    "a+b\n",
    "c+d"
   ]
  },
  {
   "cell_type": "code",
   "execution_count": 1,
   "metadata": {},
   "outputs": [],
   "source": [
    "class IITian:\n",
    "    pass"
   ]
  },
  {
   "cell_type": "code",
   "execution_count": 2,
   "metadata": {},
   "outputs": [],
   "source": [
    "jack = IITian()\n",
    "jill = IITian()"
   ]
  },
  {
   "cell_type": "code",
   "execution_count": 3,
   "metadata": {},
   "outputs": [],
   "source": [
    "jack.first_name = \"Jackobie\""
   ]
  },
  {
   "cell_type": "code",
   "execution_count": 4,
   "metadata": {},
   "outputs": [],
   "source": [
    "jill.firstname = \"Jillian\""
   ]
  },
  {
   "cell_type": "code",
   "execution_count": 5,
   "metadata": {},
   "outputs": [],
   "source": [
    "students = [jack, jill]"
   ]
  },
  {
   "cell_type": "code",
   "execution_count": 6,
   "metadata": {},
   "outputs": [
    {
     "name": "stdout",
     "output_type": "stream",
     "text": [
      "Jackobie\n",
      "Jillian\n"
     ]
    }
   ],
   "source": [
    "print(jack.first_name)\n",
    "print(jill.firstname)"
   ]
  },
  {
   "cell_type": "code",
   "execution_count": 7,
   "metadata": {},
   "outputs": [
    {
     "name": "stdout",
     "output_type": "stream",
     "text": [
      "Jackobie\n"
     ]
    },
    {
     "ename": "AttributeError",
     "evalue": "'IITian' object has no attribute 'first_name'",
     "output_type": "error",
     "traceback": [
      "\u001b[1;31m---------------------------------------------------------------------------\u001b[0m",
      "\u001b[1;31mAttributeError\u001b[0m                            Traceback (most recent call last)",
      "\u001b[1;32m<ipython-input-7-f043cf977dfc>\u001b[0m in \u001b[0;36m<module>\u001b[1;34m\u001b[0m\n\u001b[0;32m      1\u001b[0m \u001b[1;32mfor\u001b[0m \u001b[0mstudent\u001b[0m \u001b[1;32min\u001b[0m \u001b[0mstudents\u001b[0m\u001b[1;33m:\u001b[0m\u001b[1;33m\u001b[0m\u001b[1;33m\u001b[0m\u001b[0m\n\u001b[1;32m----> 2\u001b[1;33m     \u001b[0mprint\u001b[0m\u001b[1;33m(\u001b[0m\u001b[0mstudent\u001b[0m\u001b[1;33m.\u001b[0m\u001b[0mfirst_name\u001b[0m\u001b[1;33m)\u001b[0m\u001b[1;33m\u001b[0m\u001b[1;33m\u001b[0m\u001b[0m\n\u001b[0m",
      "\u001b[1;31mAttributeError\u001b[0m: 'IITian' object has no attribute 'first_name'"
     ]
    }
   ],
   "source": [
    "for student in students:\n",
    "    print(student.first_name)"
   ]
  },
  {
   "cell_type": "code",
   "execution_count": 9,
   "metadata": {},
   "outputs": [],
   "source": [
    "class IITian:\n",
    "    def __init__(self, fname):\n",
    "        self.firstname = fname"
   ]
  },
  {
   "cell_type": "code",
   "execution_count": 10,
   "metadata": {},
   "outputs": [],
   "source": [
    "jack = IITian(\"Jackobie\")\n",
    "jill = IITian(\"Jillian\")"
   ]
  },
  {
   "cell_type": "code",
   "execution_count": 11,
   "metadata": {},
   "outputs": [],
   "source": [
    "students = [jack, jill]"
   ]
  },
  {
   "cell_type": "code",
   "execution_count": 12,
   "metadata": {},
   "outputs": [
    {
     "name": "stdout",
     "output_type": "stream",
     "text": [
      "Jackobie\n",
      "Jillian\n"
     ]
    }
   ],
   "source": [
    "for student in students:\n",
    "    print(student.firstname)"
   ]
  },
  {
   "cell_type": "markdown",
   "metadata": {},
   "source": [
    "#### _\" An abstraction denotes the essential characteristics of a collection of objects  \"_"
   ]
  },
  {
   "cell_type": "code",
   "execution_count": 19,
   "metadata": {},
   "outputs": [],
   "source": [
    "class IITian:\n",
    "    def __init__(self, fname, lname='Sir'):\n",
    "        self.firstname = fname\n",
    "        self.lastname = lname"
   ]
  },
  {
   "cell_type": "code",
   "execution_count": 22,
   "metadata": {},
   "outputs": [],
   "source": [
    "jack = IITian(\"Jackobie\")\n",
    "jill = IITian(\"Jillian\",\"Leibniz\")"
   ]
  },
  {
   "cell_type": "code",
   "execution_count": 23,
   "metadata": {},
   "outputs": [],
   "source": [
    "#just a function\n",
    "def fullname(student):\n",
    "    print(student.firstname +' '+student.lastname)"
   ]
  },
  {
   "cell_type": "code",
   "execution_count": 17,
   "metadata": {},
   "outputs": [
    {
     "name": "stdout",
     "output_type": "stream",
     "text": [
      "Jackobie Sir\n",
      "Jillian Leibniz\n"
     ]
    }
   ],
   "source": [
    "fullname(jack)\n",
    "fullname(jill)"
   ]
  },
  {
   "cell_type": "code",
   "execution_count": 24,
   "metadata": {},
   "outputs": [],
   "source": [
    "class IITian:\n",
    "    def __init__(self, fname, lname):\n",
    "        self.firstname = fname #these are called instance variables\n",
    "        self.lastname = lname\n",
    "    \n",
    "    def fullname(self):\n",
    "        print(self.firstname +' '+self.lastname)"
   ]
  },
  {
   "cell_type": "code",
   "execution_count": 25,
   "metadata": {},
   "outputs": [],
   "source": [
    "jack = IITian(\"Jackobie\",\"Newton\")\n",
    "jill = IITian(\"Jillian\",\"Leibniz\")"
   ]
  },
  {
   "cell_type": "code",
   "execution_count": 28,
   "metadata": {},
   "outputs": [
    {
     "data": {
      "text/plain": [
       "<bound method IITian.fullname of <__main__.IITian object at 0x000001C3C2E5A9C8>>"
      ]
     },
     "execution_count": 28,
     "metadata": {},
     "output_type": "execute_result"
    }
   ],
   "source": [
    "jack.fullname()\n",
    "jill.fullname()"
   ]
  },
  {
   "cell_type": "code",
   "execution_count": 29,
   "metadata": {},
   "outputs": [
    {
     "name": "stdout",
     "output_type": "stream",
     "text": [
      "Jackobie Newton\n",
      "Jillian Leibniz\n"
     ]
    }
   ],
   "source": [
    "#is this the same?\n",
    "IITian.fullname(jack)\n",
    "IITian.fullname(jill)"
   ]
  },
  {
   "cell_type": "code",
   "execution_count": 34,
   "metadata": {},
   "outputs": [
    {
     "data": {
      "text/plain": [
       "'my age 36'"
      ]
     },
     "execution_count": 34,
     "metadata": {},
     "output_type": "execute_result"
    }
   ],
   "source": [
    "'my age {}'.format(36)"
   ]
  },
  {
   "cell_type": "markdown",
   "metadata": {},
   "source": [
    "#### _\"Encapsulation is defined as the wrapping up of data under a single unit. It is the mechanism that binds together code and the data it manipulates\"_\n",
    "\n",
    "#### _\" One meaning of encapsulation is hiding the implementation detail.\"_\n",
    "\n",
    "#### _\"Another meaning is to protect data from mainpulation from external sources (python does not do that well and they have an excuse).\"_\n",
    "\n",
    "#### _\"Yet another meaning is to group all related data and methods into a class.\"_"
   ]
  },
  {
   "cell_type": "code",
   "execution_count": 38,
   "metadata": {},
   "outputs": [],
   "source": [
    "class IITian:\n",
    "    livesin_location = 'SriCity' #these are called class variables\n",
    "    def __init__(self, fname, lname):\n",
    "        self.firstname = fname \n",
    "        self.lastname = lname\n",
    "    \n",
    "    def fullname(self):\n",
    "        print(self.firstname +' '+self.lastname)"
   ]
  },
  {
   "cell_type": "code",
   "execution_count": 39,
   "metadata": {},
   "outputs": [],
   "source": [
    "jack = IITian(\"Jackobie\",\"Newton\")\n",
    "jill = IITian(\"Jillian\",\"Leibniz\")"
   ]
  },
  {
   "cell_type": "code",
   "execution_count": 40,
   "metadata": {},
   "outputs": [
    {
     "data": {
      "text/plain": [
       "{'firstname': 'Jackobie', 'lastname': 'Newton'}"
      ]
     },
     "execution_count": 40,
     "metadata": {},
     "output_type": "execute_result"
    }
   ],
   "source": [
    "jack.__dict__"
   ]
  },
  {
   "cell_type": "code",
   "execution_count": 25,
   "metadata": {},
   "outputs": [
    {
     "data": {
      "text/plain": [
       "['__class__',\n",
       " '__delattr__',\n",
       " '__dict__',\n",
       " '__dir__',\n",
       " '__doc__',\n",
       " '__eq__',\n",
       " '__format__',\n",
       " '__ge__',\n",
       " '__getattribute__',\n",
       " '__gt__',\n",
       " '__hash__',\n",
       " '__init__',\n",
       " '__init_subclass__',\n",
       " '__le__',\n",
       " '__lt__',\n",
       " '__module__',\n",
       " '__ne__',\n",
       " '__new__',\n",
       " '__reduce__',\n",
       " '__reduce_ex__',\n",
       " '__repr__',\n",
       " '__setattr__',\n",
       " '__sizeof__',\n",
       " '__str__',\n",
       " '__subclasshook__',\n",
       " '__weakref__',\n",
       " 'firstname',\n",
       " 'fullname',\n",
       " 'lastname',\n",
       " 'livesin_location']"
      ]
     },
     "execution_count": 25,
     "metadata": {},
     "output_type": "execute_result"
    }
   ],
   "source": [
    "#lets see what dir is all about using help\n",
    "dir(jack)"
   ]
  },
  {
   "cell_type": "code",
   "execution_count": 41,
   "metadata": {},
   "outputs": [
    {
     "data": {
      "text/plain": [
       "['__class__',\n",
       " '__delattr__',\n",
       " '__dict__',\n",
       " '__dir__',\n",
       " '__doc__',\n",
       " '__eq__',\n",
       " '__format__',\n",
       " '__ge__',\n",
       " '__getattribute__',\n",
       " '__gt__',\n",
       " '__hash__',\n",
       " '__init__',\n",
       " '__init_subclass__',\n",
       " '__le__',\n",
       " '__lt__',\n",
       " '__module__',\n",
       " '__ne__',\n",
       " '__new__',\n",
       " '__reduce__',\n",
       " '__reduce_ex__',\n",
       " '__repr__',\n",
       " '__setattr__',\n",
       " '__sizeof__',\n",
       " '__str__',\n",
       " '__subclasshook__',\n",
       " '__weakref__',\n",
       " 'fullname',\n",
       " 'livesin_location']"
      ]
     },
     "execution_count": 41,
     "metadata": {},
     "output_type": "execute_result"
    }
   ],
   "source": [
    "dir(IITian)"
   ]
  },
  {
   "cell_type": "markdown",
   "metadata": {},
   "source": [
    "#### _\"When all objects share attribute this indicates a possibility of creating an abstraction (class). You define the attributes in the class. Iff the value will be the same/common for all instances under all circumstances, thats the case for making a class variable\"_"
   ]
  },
  {
   "cell_type": "code",
   "execution_count": 27,
   "metadata": {},
   "outputs": [
    {
     "name": "stdout",
     "output_type": "stream",
     "text": [
      "SriCity\n",
      "SriCity\n",
      "SriCity\n"
     ]
    }
   ],
   "source": [
    "print(jack.livesin_location)\n",
    "print(jill.livesin_location)\n",
    "print(IITian.livesin_location)"
   ]
  },
  {
   "cell_type": "code",
   "execution_count": 43,
   "metadata": {},
   "outputs": [],
   "source": [
    "# class variable is connected to class object\n",
    "IITian.livesin_location = 'Sri City'"
   ]
  },
  {
   "cell_type": "code",
   "execution_count": 44,
   "metadata": {},
   "outputs": [
    {
     "name": "stdout",
     "output_type": "stream",
     "text": [
      "Sri City\n",
      "Sri City\n",
      "Sri City\n"
     ]
    }
   ],
   "source": [
    "print(jack.livesin_location)\n",
    "print(jill.livesin_location)\n",
    "print(IITian.livesin_location)"
   ]
  },
  {
   "cell_type": "code",
   "execution_count": 45,
   "metadata": {},
   "outputs": [],
   "source": [
    "jack.livesin_location = 'sricity'"
   ]
  },
  {
   "cell_type": "markdown",
   "metadata": {},
   "source": [
    "**what will happen below?**"
   ]
  },
  {
   "cell_type": "code",
   "execution_count": 46,
   "metadata": {},
   "outputs": [
    {
     "name": "stdout",
     "output_type": "stream",
     "text": [
      "sricity\n",
      "Sri City\n",
      "Sri City\n"
     ]
    }
   ],
   "source": [
    "print(jack.livesin_location)\n",
    "print(jill.livesin_location)\n",
    "print(IITian.livesin_location)"
   ]
  },
  {
   "cell_type": "code",
   "execution_count": 49,
   "metadata": {},
   "outputs": [],
   "source": [
    "class IITian:\n",
    "    livesin_location = 'SriCity' #these are called class variables\n",
    "    total_people = 0 #another common use of the variable\n",
    "    def __init__(self, fname, lname):\n",
    "        self.firstname = fname \n",
    "        self.lastname = lname\n",
    "        IITian.total_people += 1\n",
    "    \n",
    "    def fullname(self):\n",
    "        print(self.firstname +' '+self.lastname)"
   ]
  },
  {
   "cell_type": "code",
   "execution_count": 50,
   "metadata": {},
   "outputs": [],
   "source": [
    "jack = IITian(\"Jackobie\",\"Newton\")\n",
    "jill = IITian(\"Jillian\",\"Leibniz\")"
   ]
  },
  {
   "cell_type": "code",
   "execution_count": 51,
   "metadata": {},
   "outputs": [
    {
     "data": {
      "text/plain": [
       "2"
      ]
     },
     "execution_count": 51,
     "metadata": {},
     "output_type": "execute_result"
    }
   ],
   "source": [
    "IITian.total_people"
   ]
  },
  {
   "cell_type": "markdown",
   "metadata": {},
   "source": [
    "#### _\"If its an information about the class itself, like for example the number of instances, then use a class variable. \"_"
   ]
  },
  {
   "cell_type": "code",
   "execution_count": 35,
   "metadata": {},
   "outputs": [],
   "source": [
    "# now lets look at inherittance\n",
    "class IITian:\n",
    "    livesin_location = 'SriCity' #these are called class variables\n",
    "    total_people = 0\n",
    "    def __init__(self, fname, lname):\n",
    "        self.firstname = fname \n",
    "        self.lastname = lname\n",
    "        IITian.total_people += 1\n",
    "    \n",
    "    def fullname(self):\n",
    "        print(self.firstname +' '+self.lastname)\n",
    "\n",
    "\n",
    "class Professor(IITian):\n",
    "    def __init__(self, fname, lname, salary, courses_offered):\n",
    "        super().__init__(fname, lname)\n",
    "        self.salary = salary\n",
    "        self.courses_offered = courses_offered\n",
    "\n",
    "class Student(IITian):\n",
    "    def __init__(self, fname, lname, rollno, courses_taken):\n",
    "        super().__init__(fname, lname)\n",
    "        self.rollno = rollno\n",
    "        self.courses_taken= courses_taken"
   ]
  },
  {
   "cell_type": "code",
   "execution_count": 30,
   "metadata": {},
   "outputs": [
    {
     "ename": "NameError",
     "evalue": "name 'Professor' is not defined",
     "output_type": "error",
     "traceback": [
      "\u001b[1;31m---------------------------------------------------------------------------\u001b[0m",
      "\u001b[1;31mNameError\u001b[0m                                 Traceback (most recent call last)",
      "\u001b[1;32m<ipython-input-30-e623b4590797>\u001b[0m in \u001b[0;36m<module>\u001b[1;34m\u001b[0m\n\u001b[1;32m----> 1\u001b[1;33m \u001b[0msubu\u001b[0m \u001b[1;33m=\u001b[0m \u001b[0mProfessor\u001b[0m\u001b[1;33m(\u001b[0m\u001b[1;34m'moosa'\u001b[0m\u001b[1;33m,\u001b[0m\u001b[1;34m'abc'\u001b[0m\u001b[1;33m,\u001b[0m\u001b[1;36m1000\u001b[0m\u001b[1;33m,\u001b[0m\u001b[1;33m[\u001b[0m\u001b[1;34m'data ninja'\u001b[0m\u001b[1;33m]\u001b[0m\u001b[1;33m)\u001b[0m\u001b[1;33m\u001b[0m\u001b[1;33m\u001b[0m\u001b[0m\n\u001b[0m",
      "\u001b[1;31mNameError\u001b[0m: name 'Professor' is not defined"
     ]
    }
   ],
   "source": [
    "moosa = Professor('moosa','abc',1000,['data ninja'])"
   ]
  },
  {
   "cell_type": "code",
   "execution_count": 31,
   "metadata": {},
   "outputs": [
    {
     "ename": "NameError",
     "evalue": "name 'subu' is not defined",
     "output_type": "error",
     "traceback": [
      "\u001b[1;31m---------------------------------------------------------------------------\u001b[0m",
      "\u001b[1;31mNameError\u001b[0m                                 Traceback (most recent call last)",
      "\u001b[1;32m<ipython-input-31-e2bec7f723e7>\u001b[0m in \u001b[0;36m<module>\u001b[1;34m\u001b[0m\n\u001b[1;32m----> 1\u001b[1;33m \u001b[0msubu\u001b[0m\u001b[1;33m.\u001b[0m\u001b[0m__dict__\u001b[0m\u001b[1;33m\u001b[0m\u001b[1;33m\u001b[0m\u001b[0m\n\u001b[0m",
      "\u001b[1;31mNameError\u001b[0m: name 'subu' is not defined"
     ]
    }
   ],
   "source": [
    "moosa.__dict__"
   ]
  },
  {
   "cell_type": "code",
   "execution_count": 38,
   "metadata": {},
   "outputs": [
    {
     "data": {
      "text/plain": [
       "['__class__',\n",
       " '__delattr__',\n",
       " '__dict__',\n",
       " '__dir__',\n",
       " '__doc__',\n",
       " '__eq__',\n",
       " '__format__',\n",
       " '__ge__',\n",
       " '__getattribute__',\n",
       " '__gt__',\n",
       " '__hash__',\n",
       " '__init__',\n",
       " '__init_subclass__',\n",
       " '__le__',\n",
       " '__lt__',\n",
       " '__module__',\n",
       " '__ne__',\n",
       " '__new__',\n",
       " '__reduce__',\n",
       " '__reduce_ex__',\n",
       " '__repr__',\n",
       " '__setattr__',\n",
       " '__sizeof__',\n",
       " '__str__',\n",
       " '__subclasshook__',\n",
       " '__weakref__',\n",
       " 'courses_offered',\n",
       " 'firstname',\n",
       " 'fullname',\n",
       " 'lastname',\n",
       " 'livesin_location',\n",
       " 'salary',\n",
       " 'total_people']"
      ]
     },
     "execution_count": 38,
     "metadata": {},
     "output_type": "execute_result"
    }
   ],
   "source": [
    "dir(moosa)"
   ]
  },
  {
   "cell_type": "code",
   "execution_count": 39,
   "metadata": {},
   "outputs": [],
   "source": [
    "class IITian:\n",
    "    livesin_location = 'SriCity'\n",
    "    total_people = 0\n",
    "    def __init__(self, fname, lname):\n",
    "        self.firstname = fname \n",
    "        self.lastname = lname\n",
    "        IITian.total_people += 1\n",
    "    \n",
    "    def fullname(self):\n",
    "        print(self.firstname +' '+self.lastname)\n",
    "    \n",
    "    def attend(self):\n",
    "        return \"I should attend.\"\n",
    "\n",
    "class Professor(IITian):\n",
    "    def __init__(self, fname, lname, salary, courses_offered):\n",
    "        super().__init__(fname, lname)\n",
    "        self.salary = salary\n",
    "        self.courses_offered = courses_offered\n",
    "\n",
    "class Student(IITian):\n",
    "    def __init__(self, fname, lname, rollno, courses_taken):\n",
    "        super().__init__(fname, lname)\n",
    "        self.rollno = rollno\n",
    "        self.courses_taken= courses_taken"
   ]
  },
  {
   "cell_type": "code",
   "execution_count": 40,
   "metadata": {},
   "outputs": [],
   "source": [
    "moosa = Professor('moosa','abc',1000,['ase1'])\n",
    "student_x = Student('student','x',12,'[ase1, m3, algo]')"
   ]
  },
  {
   "cell_type": "code",
   "execution_count": 41,
   "metadata": {},
   "outputs": [
    {
     "name": "stdout",
     "output_type": "stream",
     "text": [
      "I should attend.\n",
      "I should attend.\n"
     ]
    }
   ],
   "source": [
    "print(moosa.attend())\n",
    "print(student_x.attend())"
   ]
  },
  {
   "cell_type": "markdown",
   "metadata": {},
   "source": [
    "**I can ask anyone of you (or all of you) for rollno and be 100% certain that you'll have it**"
   ]
  },
  {
   "cell_type": "code",
   "execution_count": 42,
   "metadata": {},
   "outputs": [
    {
     "name": "stdout",
     "output_type": "stream",
     "text": [
      "I should attend.\n",
      "I should attend.\n"
     ]
    }
   ],
   "source": [
    "# same applies when you have an abstraction, you can be assured that all instances have that property\n",
    "IIT_people = [moosa,student_x]\n",
    "for p in IIT_people:\n",
    "    print(p.attend())"
   ]
  },
  {
   "cell_type": "code",
   "execution_count": 43,
   "metadata": {},
   "outputs": [],
   "source": [
    "class IITian:\n",
    "    livesin_location = 'SriCity'\n",
    "    total_people = 0\n",
    "    def __init__(self, fname, lname):\n",
    "        self.firstname = fname \n",
    "        self.lastname = lname\n",
    "        IITian.total_people += 1\n",
    "    \n",
    "    def fullname(self):\n",
    "        print(self.firstname +' '+self.lastname)\n",
    "        \n",
    "    #a method in parent is also inherited\n",
    "    def attend(self):\n",
    "        return \"I should attend.\"\n",
    "\n",
    "class Professor(IITian):\n",
    "    def __init__(self, fname, lname, salary, courses_offered):\n",
    "        super().__init__(fname, lname)\n",
    "        self.salary = salary\n",
    "        self.courses_offered = courses_offered\n",
    "\n",
    "\n",
    "class Student(IITian):\n",
    "    def __init__(self, fname, lname, rollno, courses_taken):\n",
    "        super().__init__(fname, lname)\n",
    "        self.rollno = rollno\n",
    "        self.courses_taken= courses_taken\n"
   ]
  },
  {
   "cell_type": "code",
   "execution_count": 44,
   "metadata": {},
   "outputs": [
    {
     "name": "stdout",
     "output_type": "stream",
     "text": [
      "I should attend.\n",
      "I should attend.\n"
     ]
    }
   ],
   "source": [
    "# testing method inheritance\n",
    "moosa = Professor('moosa','abc',1000,['ase1'])\n",
    "student_x = Student('student','x',12,'[ase1, m3, algo]')\n",
    "IIT_people = [moosa,student_x]\n",
    "for p in IIT_people:\n",
    "    print(p.attend())"
   ]
  },
  {
   "cell_type": "markdown",
   "metadata": {},
   "source": [
    "#### _\"inheritance defines a relationship among classes, wherein one class shares the structure or behavior defined in one or more classes (denoting single inheritance and multiple inheritance, respectively). Inheritance thus represents a hierarchy of abstractions, in which a subclass inherits from one or more superclasses. Typically, a subclass augments or redefines the existing structure and behavior of its superclasses.\"_"
   ]
  },
  {
   "cell_type": "code",
   "execution_count": 47,
   "metadata": {},
   "outputs": [],
   "source": [
    "class IITian:\n",
    "    livesin_location = 'SriCity'\n",
    "    total_people = 0\n",
    "    def __init__(self, fname, lname):\n",
    "        self.firstname = fname \n",
    "        self.lastname = lname\n",
    "        IITian.total_people += 1\n",
    "    \n",
    "    def fullname(self):\n",
    "        print(self.firstname +' '+self.lastname)\n",
    "        \n",
    "    #a method in parent is also inherited\n",
    "    def attend(self):\n",
    "        return \"I should attend.\"\n",
    "\n",
    "class Professor(IITian):\n",
    "    def __init__(self, fname, lname, salary, courses_offered):\n",
    "        super().__init__(fname, lname)\n",
    "        self.salary = salary\n",
    "        self.courses_offered = courses_offered\n",
    "        \n",
    "    def attend(self):\n",
    "        return \"Yes. I {} have to teach the class\".format(self.firstname)\n",
    "\n",
    "class Student(IITian):\n",
    "    def __init__(self, fname, lname, rollno, courses_taken):\n",
    "        super().__init__(fname, lname)\n",
    "        self.rollno = rollno\n",
    "        self.courses_taken= courses_taken\n",
    "        \n",
    "    def attend(self):\n",
    "        return \"I {} have people to give me proxy\".format(self.firstname)"
   ]
  },
  {
   "cell_type": "code",
   "execution_count": 46,
   "metadata": {},
   "outputs": [
    {
     "name": "stdout",
     "output_type": "stream",
     "text": [
      "Yes. I subu have to teach the class\n",
      "I student have people to give me proxy\n"
     ]
    }
   ],
   "source": [
    "moosa = Professor('moosa','abc',1000,['ase1'])\n",
    "student_x = Student('student','x',12,['ase1', 'm3', 'algo'])\n",
    "IIT_people = [moosa,student_x]\n",
    "for p in IIT_people:\n",
    "    print(p.attend())"
   ]
  },
  {
   "cell_type": "markdown",
   "metadata": {},
   "source": [
    "#### _\"Polymorphism is a condition that exists when the features of dynamic typing and inheritance interact. Polymorphism represents a concept in type theory in which a single name (such as a variable declaration) may denote objects of many different classes that are related by some common superclass. Any object denoted by this name is therefore able to respond to some common set of operations\"_"
   ]
  },
  {
   "cell_type": "code",
   "execution_count": 48,
   "metadata": {},
   "outputs": [],
   "source": [
    "#Method chaining using super\n",
    "class IITian:\n",
    "    livesin_location = 'SriCity' #these are called instance variables\n",
    "    total_people = 0\n",
    "    def __init__(self, fname, lname):\n",
    "        self.firstname = fname \n",
    "        self.lastname = lname\n",
    "        IITian.total_people += 1\n",
    "    \n",
    "    def fullname(self):\n",
    "        print(self.firstname +' '+self.lastname)\n",
    "    \n",
    "    def attend(self):\n",
    "        return \"I should attend.\"\n",
    "\n",
    "class Professor(IITian):\n",
    "    def __init__(self, fname, lname, salary, courses_offered):\n",
    "        super().__init__(fname, lname)\n",
    "        self.salary = salary\n",
    "        self.courses_offered = courses_offered\n",
    "        \n",
    "    def attend(self):\n",
    "        return \"Yes. I {} have to teach the class, So \".format(self.firstname) + super().attend()\n",
    "\n",
    "class Student(IITian):\n",
    "    def __init__(self, fname, lname, rollno, courses_taken):\n",
    "        super().__init__(fname, lname)\n",
    "        self.rollno = rollno\n",
    "        self.courses_taken= courses_taken\n",
    "        \n",
    "    def attend(self):\n",
    "        return \"I {} have people to give me proxy, So I don't care if \".format(self.firstname) + super().attend()"
   ]
  },
  {
   "cell_type": "code",
   "execution_count": 49,
   "metadata": {},
   "outputs": [
    {
     "name": "stdout",
     "output_type": "stream",
     "text": [
      "Yes. I subu have to teach the class, So I should attend.\n",
      "I student have people to give me proxy, So I don't care if I should attend.\n"
     ]
    }
   ],
   "source": [
    "moosa = Professor('moosa','abc',1000,['ase1'])\n",
    "student_x = Student('student','x',12,'[ase1, m3, algo]')\n",
    "IIT_people = [moosa,student_x]\n",
    "for p in IIT_people:\n",
    "    print(p.attend())"
   ]
  },
  {
   "cell_type": "code",
   "execution_count": 50,
   "metadata": {},
   "outputs": [],
   "source": [
    "#Decorators and property\n",
    "class IITian:\n",
    "    livesin_location = 'SriCity' #these are called instance variables\n",
    "    total_people = 0\n",
    "    def __init__(self, fname, lname):\n",
    "        self.firstname = fname \n",
    "        self.lastname = lname\n",
    "        IITian.total_people += 1\n",
    "    \n",
    "    @property #dynamic\n",
    "    def fullname(self):\n",
    "        return self.firstname +' '+self.lastname\n",
    "    \n",
    "    def attend(self):\n",
    "        return \"I should attend.\"\n",
    "\n",
    "class Professor(IITian):\n",
    "    def __init__(self, fname, lname, salary, courses_offered):\n",
    "        super().__init__(fname, lname)\n",
    "        self.salary = salary\n",
    "        self.courses_offered = courses_offered\n",
    "        \n",
    "    def attend(self):\n",
    "        return \"Yes. I {} have to teach the class, So \".format(self.firstname) + super().attend()\n",
    "\n",
    "class Student(IITian):\n",
    "    def __init__(self, fname, lname, rollno, courses_taken):\n",
    "        super().__init__(fname, lname)\n",
    "        self.rollno = rollno\n",
    "        self.courses_taken= courses_taken\n",
    "        \n",
    "    def attend(self):\n",
    "        return \"I {} have people to give me proxy, So I don't care if \".format(self.firstname) + super().attend()"
   ]
  },
  {
   "cell_type": "code",
   "execution_count": 51,
   "metadata": {},
   "outputs": [
    {
     "name": "stdout",
     "output_type": "stream",
     "text": [
      "subu kandaswamy\n",
      "student x\n"
     ]
    }
   ],
   "source": [
    "moosa = Professor('moosa','abc',1000,['ase1'])\n",
    "student_x = Student('student','x',12,'[ase1, m3, algo]')\n",
    "IIT_people = [moosa,student_x]\n",
    "for p in IIT_people:\n",
    "    print(p.fullname)"
   ]
  },
  {
   "cell_type": "code",
   "execution_count": 53,
   "metadata": {},
   "outputs": [],
   "source": [
    "IIT_csv = \"Moosa, Abc\""
   ]
  },
  {
   "cell_type": "code",
   "execution_count": 54,
   "metadata": {},
   "outputs": [
    {
     "data": {
      "text/plain": [
       "<__main__.IIITian at 0x1eece1889e8>"
      ]
     },
     "execution_count": 54,
     "metadata": {},
     "output_type": "execute_result"
    }
   ],
   "source": [
    "def from_csv(csvstring):\n",
    "    first, last = csvstring.split(\",\")\n",
    "    return IITian(first,last)\n",
    "\n",
    "obj = from_csv(IIT_csv)\n",
    "obj\n",
    "#print(obj.firstname+' '+obj.lastname)"
   ]
  },
  {
   "cell_type": "code",
   "execution_count": 57,
   "metadata": {},
   "outputs": [],
   "source": [
    "#Decorators and property\n",
    "class IITian:\n",
    "    livesin_location = 'SriCity' #these are called instance variables\n",
    "    total_people = 0\n",
    "    def __init__(self, fname, lname):\n",
    "        self.firstname = fname \n",
    "        self.lastname = lname\n",
    "        IITian.total_people += 1\n",
    "    \n",
    "    @property #dynamic\n",
    "    def fullname(self):\n",
    "        return self.firstname +' '+self.lastname\n",
    "    \n",
    "    def attend(self):\n",
    "        return \"I should attend.\"\n",
    "    \n",
    "    def __str__(self):\n",
    "        return \"<{} {}>\".format(self.firstname, self.lastname)\n",
    "    \n",
    "    def __repr__(self):\n",
    "        return \"<repr:{} {}>\".format(self.firstname, self.lastname)\n",
    "    \n",
    "    @classmethod\n",
    "    def from_csv(cls, csvstring):\n",
    "        first, last = csvstring.split(\",\")\n",
    "        return cls(first,last)\n",
    "    \n",
    "\n",
    "class Professor(IITian):\n",
    "    def __init__(self, fname, lname, salary, courses_offered):\n",
    "        super().__init__(fname, lname)\n",
    "        self.salary = salary\n",
    "        self.courses_offered = courses_offered\n",
    "        \n",
    "    def attend(self):\n",
    "        return \"Yes. I {} have to teach the class, So \".format(self.firstname) + super().attend()\n",
    "\n",
    "class Student(IITian):\n",
    "    def __init__(self, fname, lname, rollno, courses_taken):\n",
    "        super().__init__(fname, lname)\n",
    "        self.rollno = rollno\n",
    "        self.courses_taken= courses_taken\n",
    "        \n",
    "    def attend(self):\n",
    "        return \"I {} have people to give me proxy, So I don't care if \".format(self.firstname) + super().attend()"
   ]
  },
  {
   "cell_type": "code",
   "execution_count": 59,
   "metadata": {},
   "outputs": [
    {
     "name": "stdout",
     "output_type": "stream",
     "text": [
      "<Venky  Vinayakarao>\n"
     ]
    }
   ],
   "source": [
    "print(IITian.from_csv(\"moosa, abc\"))"
   ]
  },
  {
   "cell_type": "markdown",
   "metadata": {},
   "source": [
    "### We gave you an example of the Four Pillars for OOP in Python\n",
    "##### 1. Abstraction\n",
    "##### 2. Encapsulation\n",
    "##### 3. Inheritance\n",
    "##### 4. Polymorphism"
   ]
  },
  {
   "cell_type": "markdown",
   "metadata": {},
   "source": [
    "##### For More: I recommend you to visit Corey Schaffer's nice [youtube tutorial](https://www.youtube.com/playlist?list=PL-osiE80TeTsqhIuOqKhwlXsIBIdSeYtc) playlist on python and OOP\n",
    "\n",
    "##### Learn the following topics\n",
    "1. static methods\n",
    "2. difference between static and class methods"
   ]
  },
  {
   "cell_type": "code",
   "execution_count": null,
   "metadata": {},
   "outputs": [],
   "source": []
  }
 ],
 "metadata": {
  "kernelspec": {
   "display_name": "Python 3",
   "language": "python",
   "name": "python3"
  },
  "language_info": {
   "codemirror_mode": {
    "name": "ipython",
    "version": 3
   },
   "file_extension": ".py",
   "mimetype": "text/x-python",
   "name": "python",
   "nbconvert_exporter": "python",
   "pygments_lexer": "ipython3",
   "version": "3.7.4"
  }
 },
 "nbformat": 4,
 "nbformat_minor": 2
}
